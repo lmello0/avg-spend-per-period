{
 "cells": [
  {
   "cell_type": "code",
   "execution_count": null,
   "metadata": {},
   "outputs": [],
   "source": [
    "import pandas as pd\n",
    "import os"
   ]
  },
  {
   "cell_type": "code",
   "execution_count": null,
   "metadata": {},
   "outputs": [],
   "source": [
    "file_name = ''"
   ]
  },
  {
   "cell_type": "code",
   "execution_count": null,
   "metadata": {},
   "outputs": [],
   "source": [
    "df = pd.read_csv(file_name, sep=';', skiprows=3)\n",
    "df.drop(df.columns[len(df.columns)-1], axis=1, inplace=True)\n",
    "\n",
    "df.head()"
   ]
  },
  {
   "cell_type": "code",
   "execution_count": null,
   "metadata": {},
   "outputs": [],
   "source": [
    "df = df.rename(columns={\n",
    "    df.columns[0]: 'data_lancamento',\n",
    "    df.columns[1]: 'historico',\n",
    "    df.columns[2]: 'descricao',\n",
    "    df.columns[3]: 'valor'\n",
    "})"
   ]
  },
  {
   "cell_type": "code",
   "execution_count": null,
   "metadata": {},
   "outputs": [],
   "source": [
    "df['valor'] = df['valor'].str.replace('.', '')\n",
    "df['valor'] = df['valor'].str.replace(',', '.')"
   ]
  },
  {
   "cell_type": "code",
   "execution_count": null,
   "metadata": {},
   "outputs": [],
   "source": [
    "df['data_lancamento'] = pd.to_datetime(df['data_lancamento'], format='%d/%m/%Y')\n",
    "df['historico'] = df['historico'].astype(str)\n",
    "df['descricao'] = df['descricao'].astype(str)\n",
    "df['valor'] = df['valor'].astype(float)"
   ]
  },
  {
   "cell_type": "code",
   "execution_count": null,
   "metadata": {},
   "outputs": [],
   "source": [
    "df['dia'] = df['data_lancamento'].dt.day\n",
    "df['mes'] = df['data_lancamento'].dt.month\n",
    "df['ano'] = df['data_lancamento'].dt.year"
   ]
  },
  {
   "cell_type": "code",
   "execution_count": null,
   "metadata": {},
   "outputs": [],
   "source": [
    "filename, ext = os.path.splitext(file_name)"
   ]
  },
  {
   "cell_type": "code",
   "execution_count": null,
   "metadata": {},
   "outputs": [],
   "source": [
    "df.to_csv(f'{filename}_clean{ext}')"
   ]
  },
  {
   "cell_type": "code",
   "execution_count": null,
   "metadata": {},
   "outputs": [],
   "source": [
    "splitted_dataframe = df.groupby(['ano', 'mes'])"
   ]
  },
  {
   "cell_type": "code",
   "execution_count": null,
   "metadata": {},
   "outputs": [],
   "source": [
    "spent_in_a_year = 0\n",
    "for (year, month), group in splitted_dataframe:\n",
    "    gains = 0\n",
    "    expenses = 0\n",
    "\n",
    "    for _, column in group.iterrows():\n",
    "        if column['valor'] > 0:\n",
    "            gains += column['valor']\n",
    "        else:\n",
    "            expenses -= column['valor']\n",
    "\n",
    "    spent_in_a_year += expenses\n",
    "    print(f'When: {year}/{month}')\n",
    "\n",
    "    print(f'\\tGains......: {gains:.2f}')\n",
    "    print(f'\\tExpenses...: -{expenses:.2f}')\n",
    "\n",
    "print(f'Mean spent in a year: {spent_in_a_year / 12:.2f}')"
   ]
  }
 ],
 "metadata": {
  "kernelspec": {
   "display_name": "venv",
   "language": "python",
   "name": "python3"
  },
  "language_info": {
   "codemirror_mode": {
    "name": "ipython",
    "version": 3
   },
   "file_extension": ".py",
   "mimetype": "text/x-python",
   "name": "python",
   "nbconvert_exporter": "python",
   "pygments_lexer": "ipython3",
   "version": "3.10.12"
  }
 },
 "nbformat": 4,
 "nbformat_minor": 2
}
